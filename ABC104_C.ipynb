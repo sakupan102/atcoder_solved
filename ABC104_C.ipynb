{
  "nbformat": 4,
  "nbformat_minor": 0,
  "metadata": {
    "colab": {
      "provenance": [],
      "authorship_tag": "ABX9TyMjuDmHx5RbZ8AWtriOYu7h",
      "include_colab_link": true
    },
    "kernelspec": {
      "name": "python3",
      "display_name": "Python 3"
    },
    "language_info": {
      "name": "python"
    }
  },
  "cells": [
    {
      "cell_type": "markdown",
      "metadata": {
        "id": "view-in-github",
        "colab_type": "text"
      },
      "source": [
        "<a href=\"https://colab.research.google.com/github/sakupan102/atcoder_solved/blob/main/ABC104_C.ipynb\" target=\"_parent\"><img src=\"https://colab.research.google.com/assets/colab-badge.svg\" alt=\"Open In Colab\"/></a>"
      ]
    },
    {
      "cell_type": "code",
      "execution_count": null,
      "metadata": {
        "id": "WB2wMAkQ-0pu"
      },
      "outputs": [],
      "source": [
        "#ABC104のC問題\n",
        "INF=float(\"inf\")\n",
        "D,G=map(int,input().split())\n",
        "P=[]\n",
        "C=[]\n",
        "for i in range(D):\n",
        "  p,c=map(int,input().split())\n",
        "  P.append(p)\n",
        "  C.append(c)\n",
        "\n",
        "dp=[[-INF]*(1001) for i in range(D+1)] #dp[i][j]はj個目の問題までにi個の問題を解いた時の最大点数\n",
        "dp[0][0]=0\n",
        "for i in range(D):\n",
        "  for j in range(0,1001):\n",
        "    if dp[i][j]!=-INF:\n",
        "      for k in range(P[i]+1):\n",
        "        score=k*(i+1)*100\n",
        "        if k==P[i]:\n",
        "          score+=C[i]\n",
        "        dp[i+1][j+k]=max(dp[i+1][j+k],dp[i][j]+score)\n",
        "\n",
        "\n",
        "for i in range(1001):\n",
        "  if dp[D][i]>=G:\n",
        "    ans=i\n",
        "    break\n",
        "print(ans)"
      ]
    }
  ]
}