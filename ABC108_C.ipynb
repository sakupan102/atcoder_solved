{
  "nbformat": 4,
  "nbformat_minor": 0,
  "metadata": {
    "colab": {
      "provenance": [],
      "authorship_tag": "ABX9TyMJ0u0aa6927YtVjMe9Uvts",
      "include_colab_link": true
    },
    "kernelspec": {
      "name": "python3",
      "display_name": "Python 3"
    },
    "language_info": {
      "name": "python"
    }
  },
  "cells": [
    {
      "cell_type": "markdown",
      "metadata": {
        "id": "view-in-github",
        "colab_type": "text"
      },
      "source": [
        "<a href=\"https://colab.research.google.com/github/sakupan102/atcoder_solved/blob/main/ABC108_C.ipynb\" target=\"_parent\"><img src=\"https://colab.research.google.com/assets/colab-badge.svg\" alt=\"Open In Colab\"/></a>"
      ]
    },
    {
      "cell_type": "code",
      "execution_count": null,
      "metadata": {
        "id": "XgPwFrhZFGkM"
      },
      "outputs": [],
      "source": [
        "#ABC108のC問題\n",
        "import sys\n",
        "from collections import defaultdict\n",
        "S=input()\n",
        "T=input()\n",
        "res_T=defaultdict(str)\n",
        "res_S=defaultdict(str)\n",
        "\n",
        "for i in range(len(S)):\n",
        "  if (res_T[T[i]] != \"\" and res_T[T[i]] != S[i]) or (res_S[S[i]] != \"\" and res_S[S[i]] != T[i]):\n",
        "    print(\"No\")\n",
        "    sys.exit()\n",
        "  else:\n",
        "    res_T[T[i]]=S[i]\n",
        "    res_S[S[i]]=T[i]\n",
        "\n",
        "print(\"Yes\")"
      ]
    }
  ]
}