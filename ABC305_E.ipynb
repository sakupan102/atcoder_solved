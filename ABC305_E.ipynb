{
  "nbformat": 4,
  "nbformat_minor": 0,
  "metadata": {
    "colab": {
      "provenance": [],
      "authorship_tag": "ABX9TyOqqYxHvF3oS0NE4GeMrNik"
    },
    "kernelspec": {
      "name": "python3",
      "display_name": "Python 3"
    },
    "language_info": {
      "name": "python"
    }
  },
  "cells": [
    {
      "cell_type": "code",
      "execution_count": null,
      "metadata": {
        "id": "Cm_IB79p7Sgt"
      },
      "outputs": [],
      "source": [
        "#ABC305のE問題\n",
        "\n",
        "import heapq\n",
        "from collections import defaultdict\n",
        "N,M,K=map(int,input().split())\n",
        "graph=defaultdict(set)\n",
        "dist=[-1 for _ in range(N)]\n",
        "heap=[]\n",
        "visited=[False for _ in range(N)]\n",
        "for i in range(M):\n",
        "  a,b=map(int,input().split())\n",
        "  a-=1\n",
        "  b-=1\n",
        "  graph[a].add(b)\n",
        "  graph[b].add(a)\n",
        "#print(graph)\n",
        "\n",
        "for i in range(K):\n",
        "  p,h=map(int,input().split())\n",
        "  p-=1\n",
        "  dist[p]=h\n",
        "  heapq.heappush(heap,(-h,p))\n",
        "#print(heap)\n",
        "while heap:\n",
        "  h,p=heapq.heappop(heap)\n",
        "  h=-h\n",
        "  if visited[p] or h<=0:\n",
        "    continue\n",
        "  visited[p]=True\n",
        "  for next in graph[p]:\n",
        "    if dist[next]<dist[p]-1:\n",
        "      dist[next]=dist[p]-1\n",
        "      heapq.heappush(heap,(-h+1,next))\n",
        "ans=0\n",
        "ans_data=[]\n",
        "#print(dist)\n",
        "for i in range(N):\n",
        "  if dist[i]>=0:\n",
        "    ans+=1\n",
        "    ans_data.append(i+1)\n",
        "\n",
        "print(ans)\n",
        "print(*ans_data)"
      ]
    }
  ]
}