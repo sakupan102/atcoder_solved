{
  "nbformat": 4,
  "nbformat_minor": 0,
  "metadata": {
    "colab": {
      "provenance": [],
      "authorship_tag": "ABX9TyP7kKpJnj5mwNAXm7GQhOYi",
      "include_colab_link": true
    },
    "kernelspec": {
      "name": "python3",
      "display_name": "Python 3"
    },
    "language_info": {
      "name": "python"
    }
  },
  "cells": [
    {
      "cell_type": "markdown",
      "metadata": {
        "id": "view-in-github",
        "colab_type": "text"
      },
      "source": [
        "<a href=\"https://colab.research.google.com/github/sakupan102/atcoder_solved/blob/main/ABC306_D.ipynb\" target=\"_parent\"><img src=\"https://colab.research.google.com/assets/colab-badge.svg\" alt=\"Open In Colab\"/></a>"
      ]
    },
    {
      "cell_type": "code",
      "execution_count": null,
      "metadata": {
        "id": "U7Jy5p4B61jT"
      },
      "outputs": [],
      "source": [
        "#ABC306のD問題\n",
        "INF=float(\"inf\")\n",
        "N=int(input())\n",
        "good=[-INF for _ in range(N+1)]\n",
        "bad=[-INF for _ in range(N+1)]\n",
        "good[0]=0\n",
        "for i in range(1,N+1):\n",
        "  x,y=map(int,input().split())\n",
        "  if x==0:\n",
        "    good[i]=max(good[i-1],bad[i-1]+y,good[i-1]+y)\n",
        "    bad[i]=bad[i-1]\n",
        "  if x==1:\n",
        "    good[i]=good[i-1]\n",
        "    bad[i]=max(good[i]+y,bad[i-1])"
      ]
    }
  ]
}