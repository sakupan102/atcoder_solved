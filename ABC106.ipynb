{
  "nbformat": 4,
  "nbformat_minor": 0,
  "metadata": {
    "colab": {
      "provenance": [],
      "authorship_tag": "ABX9TyPDZ2E4IZUS9exEAds2qBw3"
    },
    "kernelspec": {
      "name": "python3",
      "display_name": "Python 3"
    },
    "language_info": {
      "name": "python"
    }
  },
  "cells": [
    {
      "cell_type": "code",
      "execution_count": null,
      "metadata": {
        "id": "WWpm_uKGEUYg"
      },
      "outputs": [],
      "source": [
        "#ABC106のC問題\n",
        "S=input()\n",
        "K=int(input())\n",
        "cnt=0\n",
        "while cnt<len(S) and S[cnt]==\"1\":\n",
        "  cnt += 1\n",
        "\n",
        "if cnt>=K:\n",
        "  print(\"1\")\n",
        "else:\n",
        "  print(S[cnt])"
      ]
    }
  ]
}