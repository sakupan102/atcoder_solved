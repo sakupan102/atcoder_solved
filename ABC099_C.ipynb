{
  "nbformat": 4,
  "nbformat_minor": 0,
  "metadata": {
    "colab": {
      "provenance": [],
      "authorship_tag": "ABX9TyPUqM/EejaRVd12aYVhTtQQ",
      "include_colab_link": true
    },
    "kernelspec": {
      "name": "python3",
      "display_name": "Python 3"
    },
    "language_info": {
      "name": "python"
    }
  },
  "cells": [
    {
      "cell_type": "markdown",
      "metadata": {
        "id": "view-in-github",
        "colab_type": "text"
      },
      "source": [
        "<a href=\"https://colab.research.google.com/github/sakupan102/atcoder_solved/blob/main/ABC099_C.ipynb\" target=\"_parent\"><img src=\"https://colab.research.google.com/assets/colab-badge.svg\" alt=\"Open In Colab\"/></a>"
      ]
    },
    {
      "cell_type": "code",
      "execution_count": null,
      "metadata": {
        "id": "3mq4dqP7-IWx"
      },
      "outputs": [],
      "source": [
        "#ABC099のC問題\n",
        "#動的計画法で解きました\n",
        "INF=float(\"inf\")\n",
        "N=int(input())\n",
        "dp=[INF]*(N+1)\n",
        "dp[0]=0\n",
        "for i in range(N):\n",
        "    if i<=N-1:\n",
        "      dp[i+1]=min(dp[i+1],dp[i]+1)\n",
        "    tmp=6\n",
        "    while i+tmp<=N:\n",
        "      dp[i+tmp]=min(dp[i+tmp],dp[i]+1)\n",
        "      tmp*=6\n",
        "    tmp=9\n",
        "    while i+tmp<=N:\n",
        "      dp[i+tmp]=min(dp[i+tmp],dp[i]+1)\n",
        "      tmp*=9\n",
        "\n",
        "print(dp[N])"
      ]
    }
  ]
}