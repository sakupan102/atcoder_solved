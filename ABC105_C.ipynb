{
  "nbformat": 4,
  "nbformat_minor": 0,
  "metadata": {
    "colab": {
      "provenance": [],
      "authorship_tag": "ABX9TyPRYDmuuWcvWF/jYL5WAJfQ"
    },
    "kernelspec": {
      "name": "python3",
      "display_name": "Python 3"
    },
    "language_info": {
      "name": "python"
    }
  },
  "cells": [
    {
      "cell_type": "code",
      "execution_count": null,
      "metadata": {
        "id": "v9jrvxs__DfK"
      },
      "outputs": [],
      "source": [
        "#ABC105のC問題\n",
        "N=int(input())\n",
        "cnt=1\n",
        "res=\"\"\n",
        "ans=\"\"\n",
        "while N!=0:\n",
        "  if N%((-2)**cnt)==0:\n",
        "    res+=\"0\"\n",
        "  else:\n",
        "    N -=(-2)**(cnt-1)\n",
        "    res +=\"1\"\n",
        "  cnt += 1\n",
        "\n",
        "for i in range(len(res)-1,-1,-1):\n",
        "  ans += res[i]\n",
        "\n",
        "if len(ans)!=0:\n",
        "  print(ans)\n",
        "else:\n",
        "  print(0)"
      ]
    }
  ]
}