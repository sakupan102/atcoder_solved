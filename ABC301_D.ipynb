{
  "nbformat": 4,
  "nbformat_minor": 0,
  "metadata": {
    "colab": {
      "provenance": [],
      "authorship_tag": "ABX9TyNNfva31aRWxu7Fne1OBlR4",
      "include_colab_link": true
    },
    "kernelspec": {
      "name": "python3",
      "display_name": "Python 3"
    },
    "language_info": {
      "name": "python"
    }
  },
  "cells": [
    {
      "cell_type": "markdown",
      "metadata": {
        "id": "view-in-github",
        "colab_type": "text"
      },
      "source": [
        "<a href=\"https://colab.research.google.com/github/sakupan102/atcoder_solved/blob/main/ABC301_D.ipynb\" target=\"_parent\"><img src=\"https://colab.research.google.com/assets/colab-badge.svg\" alt=\"Open In Colab\"/></a>"
      ]
    },
    {
      "cell_type": "code",
      "execution_count": null,
      "metadata": {
        "id": "AAz0JF8B9cu3"
      },
      "outputs": [],
      "source": [
        "#ABC301のD問題\n",
        "import sys\n",
        "from collections import defaultdict\n",
        "S=input()\n",
        "T=input()\n",
        "dictS=defaultdict(int)\n",
        "dictT=defaultdict(int)\n",
        "for i in range(len(S)):\n",
        "  dictS[S[i]]+=1\n",
        "  dictT[T[i]]+=1\n",
        "\n",
        "#print(dictS,dictT)\n",
        "\n",
        "\n",
        "for card in \"atcoder\":\n",
        "  M=max(dictS[card],dictT[card])\n",
        "  #print(card)\n",
        "  #print(dictS[\"@\"],\"dictS\")\n",
        "  #print(dictT[\"@\"],\"dictT\")\n",
        "  if dictT[\"@\"]<M-dictT[card] or dictS[\"@\"]<M-dictS[card]:\n",
        "    print(\"No\")\n",
        "    sys.exit()\n",
        "  else:\n",
        "    dictS[\"@\"] -= M-dictS[card]\n",
        "    dictT[\"@\"] -= M-dictT[card]\n",
        "    dictS[card]=M\n",
        "    dictT[card]=M\n",
        "\n",
        "if dictS==dictT:\n",
        "  print(\"Yes\")\n",
        "else:\n",
        "  print(\"No\")"
      ]
    }
  ]
}