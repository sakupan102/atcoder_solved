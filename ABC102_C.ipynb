{
  "nbformat": 4,
  "nbformat_minor": 0,
  "metadata": {
    "colab": {
      "provenance": [],
      "authorship_tag": "ABX9TyMJvHdYJ3QruFdn1fRmCgcL",
      "include_colab_link": true
    },
    "kernelspec": {
      "name": "python3",
      "display_name": "Python 3"
    },
    "language_info": {
      "name": "python"
    }
  },
  "cells": [
    {
      "cell_type": "markdown",
      "metadata": {
        "id": "view-in-github",
        "colab_type": "text"
      },
      "source": [
        "<a href=\"https://colab.research.google.com/github/sakupan102/atcoder_solved/blob/main/ABC102_C.ipynb\" target=\"_parent\"><img src=\"https://colab.research.google.com/assets/colab-badge.svg\" alt=\"Open In Colab\"/></a>"
      ]
    },
    {
      "cell_type": "code",
      "execution_count": null,
      "metadata": {
        "id": "37RWfERi-gqG"
      },
      "outputs": [],
      "source": [
        "#ABC102のC問題\n",
        "N=int(input())\n",
        "A=list(map(int,input().split()))\n",
        "B=[]\n",
        "for i in range(N):\n",
        "  B.append(A[i]-i-1)\n",
        "\n",
        "#print(B)\n",
        "B.sort()\n",
        "x=B[N//2]\n",
        "#print(x)\n",
        "ans=0\n",
        "\n",
        "for i in range(N):\n",
        "  ans+=abs(B[i]-x)\n",
        "\n",
        "print(ans)"
      ]
    }
  ]
}