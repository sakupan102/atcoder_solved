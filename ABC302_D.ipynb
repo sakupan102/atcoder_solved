{
  "nbformat": 4,
  "nbformat_minor": 0,
  "metadata": {
    "colab": {
      "provenance": [],
      "authorship_tag": "ABX9TyNccqDXXLSn2qu+SmTRaesG"
    },
    "kernelspec": {
      "name": "python3",
      "display_name": "Python 3"
    },
    "language_info": {
      "name": "python"
    }
  },
  "cells": [
    {
      "cell_type": "code",
      "execution_count": null,
      "metadata": {
        "id": "PNbJp8qh9Hvi"
      },
      "outputs": [],
      "source": [
        "#ABC302のD問題\n",
        "N,M,D=map(int,input().split())\n",
        "A=list(map(int,input().split()))\n",
        "B=list(map(int,input().split()))\n",
        "A.sort()\n",
        "B.sort()\n",
        "cntA=N-1\n",
        "cntB=M-1\n",
        "ans=-1\n",
        "while cntA>=0 and cntB>=0:\n",
        "  if abs(A[cntA]-B[cntB])<=D:\n",
        "    ans=A[cntA]+B[cntB]\n",
        "    break\n",
        "  else:\n",
        "    if A[cntA]<B[cntB]:\n",
        "      cntB -= 1\n",
        "    else:\n",
        "      cntA -=1\n",
        "\n",
        "print(ans)"
      ]
    }
  ]
}