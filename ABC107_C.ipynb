{
  "nbformat": 4,
  "nbformat_minor": 0,
  "metadata": {
    "colab": {
      "provenance": [],
      "authorship_tag": "ABX9TyN29H6+m2xpZT85cBaYOGM6"
    },
    "kernelspec": {
      "name": "python3",
      "display_name": "Python 3"
    },
    "language_info": {
      "name": "python"
    }
  },
  "cells": [
    {
      "cell_type": "code",
      "execution_count": null,
      "metadata": {
        "id": "Te5JLoVyEy66"
      },
      "outputs": [],
      "source": [
        "#ABC107のC問題\n",
        "INF=float(\"inf\")\n",
        "import bisect\n",
        "N,K=map(int,input().split())\n",
        "X=list(map(int,input().split()))\n",
        "x=bisect.bisect_right(X,0)\n",
        "X_left=X[0:x]\n",
        "X_left.reverse()\n",
        "X_right=X[x:N]\n",
        "#print(X_left,X_right)\n",
        "\n",
        "ans=INF\n",
        "for i in range(0,K+1):\n",
        "  if i==0:\n",
        "    if K<=x:\n",
        "      ans=min(ans,abs(X_left[K-1]))\n",
        "  elif i==K:\n",
        "    if K<=N-x:\n",
        "      ans=min(ans,abs(X_right[K-1]))\n",
        "  else:\n",
        "    if i<=x and K-i<=N-x:\n",
        "      ans=min(ans,-X_left[i-1]+2*X_right[K-i-1])\n",
        "      ans=min(ans,-2*X_left[i-1]+X_right[K-i-1])\n",
        "\n",
        "print(ans)"
      ]
    }
  ]
}